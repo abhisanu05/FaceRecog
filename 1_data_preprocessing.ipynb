{
 "cells": [
  {
   "cell_type": "code",
   "execution_count": 8,
   "metadata": {},
   "outputs": [],
   "source": [
    "import numpy as np\n",
    "import cv2\n",
    "import pandas as pd\n",
    "import os\n",
    "import pickle"
   ]
  },
  {
   "cell_type": "code",
   "execution_count": 2,
   "metadata": {},
   "outputs": [
    {
     "name": "stdout",
     "output_type": "stream",
     "text": [
      "Collecting opencv-python\n",
      "  Obtaining dependency information for opencv-python from https://files.pythonhosted.org/packages/c7/ec/9dabb6a9abfdebb3c45b0cc52dec901caafef2b2c7e7d6a839ed86d81e91/opencv_python-4.9.0.80-cp37-abi3-win_amd64.whl.metadata\n",
      "  Downloading opencv_python-4.9.0.80-cp37-abi3-win_amd64.whl.metadata (20 kB)\n",
      "Requirement already satisfied: numpy>=1.21.2 in c:\\users\\hp\\anaconda3\\lib\\site-packages (from opencv-python) (1.24.3)\n",
      "Downloading opencv_python-4.9.0.80-cp37-abi3-win_amd64.whl (38.6 MB)\n",
      "   ---------------------------------------- 0.0/38.6 MB ? eta -:--:--\n",
      "   ---------------------------------------- 0.0/38.6 MB ? eta -:--:--\n",
      "   ---------------------------------------- 0.1/38.6 MB 1.7 MB/s eta 0:00:23\n",
      "   ---------------------------------------- 0.2/38.6 MB 2.0 MB/s eta 0:00:20\n",
      "   ---------------------------------------- 0.5/38.6 MB 3.1 MB/s eta 0:00:13\n",
      "    --------------------------------------- 0.8/38.6 MB 4.5 MB/s eta 0:00:09\n",
      "   - -------------------------------------- 1.2/38.6 MB 5.3 MB/s eta 0:00:08\n",
      "   - -------------------------------------- 1.8/38.6 MB 6.4 MB/s eta 0:00:06\n",
      "   -- ------------------------------------- 2.0/38.6 MB 6.8 MB/s eta 0:00:06\n",
      "   -- ------------------------------------- 2.4/38.6 MB 6.4 MB/s eta 0:00:06\n",
      "   -- ------------------------------------- 2.8/38.6 MB 7.0 MB/s eta 0:00:06\n",
      "   -- ------------------------------------- 2.8/38.6 MB 7.0 MB/s eta 0:00:06\n",
      "   --- ------------------------------------ 3.5/38.6 MB 6.9 MB/s eta 0:00:06\n",
      "   ---- ----------------------------------- 4.0/38.6 MB 7.1 MB/s eta 0:00:05\n",
      "   ---- ----------------------------------- 4.2/38.6 MB 6.9 MB/s eta 0:00:06\n",
      "   ---- ----------------------------------- 4.6/38.6 MB 7.2 MB/s eta 0:00:05\n",
      "   ---- ----------------------------------- 4.6/38.6 MB 6.6 MB/s eta 0:00:06\n",
      "   ---- ----------------------------------- 4.6/38.6 MB 6.6 MB/s eta 0:00:06\n",
      "   ---- ----------------------------------- 4.6/38.6 MB 6.6 MB/s eta 0:00:06\n",
      "   ----- ---------------------------------- 5.7/38.6 MB 6.9 MB/s eta 0:00:05\n",
      "   ------ --------------------------------- 6.5/38.6 MB 7.2 MB/s eta 0:00:05\n",
      "   ------- -------------------------------- 6.8/38.6 MB 7.2 MB/s eta 0:00:05\n",
      "   ------- -------------------------------- 7.0/38.6 MB 7.2 MB/s eta 0:00:05\n",
      "   ------- -------------------------------- 7.4/38.6 MB 7.1 MB/s eta 0:00:05\n",
      "   ------- -------------------------------- 7.6/38.6 MB 7.1 MB/s eta 0:00:05\n",
      "   -------- ------------------------------- 8.0/38.6 MB 7.1 MB/s eta 0:00:05\n",
      "   -------- ------------------------------- 8.3/38.6 MB 7.1 MB/s eta 0:00:05\n",
      "   -------- ------------------------------- 8.6/38.6 MB 7.1 MB/s eta 0:00:05\n",
      "   --------- ------------------------------ 8.9/38.6 MB 7.1 MB/s eta 0:00:05\n",
      "   --------- ------------------------------ 9.1/38.6 MB 7.0 MB/s eta 0:00:05\n",
      "   --------- ------------------------------ 9.4/38.6 MB 7.0 MB/s eta 0:00:05\n",
      "   ---------- ----------------------------- 9.7/38.6 MB 7.0 MB/s eta 0:00:05\n",
      "   ---------- ----------------------------- 10.1/38.6 MB 7.0 MB/s eta 0:00:05\n",
      "   ---------- ----------------------------- 10.4/38.6 MB 7.4 MB/s eta 0:00:04\n",
      "   ----------- ---------------------------- 10.7/38.6 MB 7.4 MB/s eta 0:00:04\n",
      "   ----------- ---------------------------- 10.9/38.6 MB 7.4 MB/s eta 0:00:04\n",
      "   ----------- ---------------------------- 11.2/38.6 MB 7.2 MB/s eta 0:00:04\n",
      "   ----------- ---------------------------- 11.5/38.6 MB 7.2 MB/s eta 0:00:04\n",
      "   ------------ --------------------------- 11.8/38.6 MB 7.1 MB/s eta 0:00:04\n",
      "   ------------ --------------------------- 12.1/38.6 MB 7.0 MB/s eta 0:00:04\n",
      "   ------------ --------------------------- 12.5/38.6 MB 7.1 MB/s eta 0:00:04\n",
      "   ------------- -------------------------- 12.8/38.6 MB 7.0 MB/s eta 0:00:04\n",
      "   ------------- -------------------------- 13.1/38.6 MB 7.2 MB/s eta 0:00:04\n",
      "   ------------- -------------------------- 13.3/38.6 MB 7.2 MB/s eta 0:00:04\n",
      "   -------------- ------------------------- 13.6/38.6 MB 6.8 MB/s eta 0:00:04\n",
      "   -------------- ------------------------- 13.8/38.6 MB 6.7 MB/s eta 0:00:04\n",
      "   -------------- ------------------------- 14.0/38.6 MB 6.7 MB/s eta 0:00:04\n",
      "   -------------- ------------------------- 14.4/38.6 MB 6.7 MB/s eta 0:00:04\n",
      "   --------------- ------------------------ 14.7/38.6 MB 6.6 MB/s eta 0:00:04\n",
      "   --------------- ------------------------ 15.1/38.6 MB 7.3 MB/s eta 0:00:04\n",
      "   --------------- ------------------------ 15.3/38.6 MB 7.1 MB/s eta 0:00:04\n",
      "   ---------------- ----------------------- 15.6/38.6 MB 6.9 MB/s eta 0:00:04\n",
      "   ---------------- ----------------------- 15.9/38.6 MB 6.7 MB/s eta 0:00:04\n",
      "   ---------------- ----------------------- 16.2/38.6 MB 6.5 MB/s eta 0:00:04\n",
      "   ----------------- ---------------------- 16.6/38.6 MB 6.4 MB/s eta 0:00:04\n",
      "   ----------------- ---------------------- 16.9/38.6 MB 6.5 MB/s eta 0:00:04\n",
      "   ----------------- ---------------------- 17.1/38.6 MB 6.4 MB/s eta 0:00:04\n",
      "   ------------------ --------------------- 17.5/38.6 MB 6.5 MB/s eta 0:00:04\n",
      "   ------------------ --------------------- 17.9/38.6 MB 6.5 MB/s eta 0:00:04\n",
      "   ------------------ --------------------- 18.2/38.6 MB 6.5 MB/s eta 0:00:04\n",
      "   ------------------- -------------------- 18.4/38.6 MB 6.5 MB/s eta 0:00:04\n",
      "   ------------------- -------------------- 18.8/38.6 MB 6.5 MB/s eta 0:00:04\n",
      "   ------------------- -------------------- 19.0/38.6 MB 6.5 MB/s eta 0:00:03\n",
      "   -------------------- ------------------- 19.4/38.6 MB 6.5 MB/s eta 0:00:03\n",
      "   -------------------- ------------------- 19.8/38.6 MB 6.5 MB/s eta 0:00:03\n",
      "   -------------------- ------------------- 20.1/38.6 MB 6.6 MB/s eta 0:00:03\n",
      "   --------------------- ------------------ 20.3/38.6 MB 6.5 MB/s eta 0:00:03\n",
      "   --------------------- ------------------ 20.7/38.6 MB 6.6 MB/s eta 0:00:03\n",
      "   --------------------- ------------------ 21.0/38.6 MB 6.6 MB/s eta 0:00:03\n",
      "   --------------------- ------------------ 21.2/38.6 MB 6.6 MB/s eta 0:00:03\n",
      "   ---------------------- ----------------- 21.5/38.6 MB 6.6 MB/s eta 0:00:03\n",
      "   ---------------------- ----------------- 22.0/38.6 MB 6.5 MB/s eta 0:00:03\n",
      "   ----------------------- ---------------- 22.3/38.6 MB 6.5 MB/s eta 0:00:03\n",
      "   ----------------------- ---------------- 22.7/38.6 MB 6.6 MB/s eta 0:00:03\n",
      "   ----------------------- ---------------- 23.0/38.6 MB 6.5 MB/s eta 0:00:03\n",
      "   ------------------------ --------------- 23.2/38.6 MB 6.6 MB/s eta 0:00:03\n",
      "   ------------------------ --------------- 23.6/38.6 MB 6.7 MB/s eta 0:00:03\n",
      "   ------------------------ --------------- 23.9/38.6 MB 6.7 MB/s eta 0:00:03\n",
      "   ------------------------- -------------- 24.3/38.6 MB 6.8 MB/s eta 0:00:03\n",
      "   ------------------------- -------------- 24.5/38.6 MB 6.7 MB/s eta 0:00:03\n",
      "   ------------------------- -------------- 24.9/38.6 MB 6.7 MB/s eta 0:00:03\n",
      "   -------------------------- ------------- 25.2/38.6 MB 6.8 MB/s eta 0:00:02\n",
      "   -------------------------- ------------- 25.4/38.6 MB 6.8 MB/s eta 0:00:02\n",
      "   -------------------------- ------------- 25.8/38.6 MB 6.8 MB/s eta 0:00:02\n",
      "   -------------------------- ------------- 26.0/38.6 MB 6.8 MB/s eta 0:00:02\n",
      "   --------------------------- ------------ 26.4/38.6 MB 6.8 MB/s eta 0:00:02\n",
      "   --------------------------- ------------ 26.7/38.6 MB 6.7 MB/s eta 0:00:02\n",
      "   --------------------------- ------------ 27.0/38.6 MB 6.7 MB/s eta 0:00:02\n",
      "   ---------------------------- ----------- 27.3/38.6 MB 6.8 MB/s eta 0:00:02\n",
      "   ---------------------------- ----------- 27.6/38.6 MB 6.7 MB/s eta 0:00:02\n",
      "   ---------------------------- ----------- 28.0/38.6 MB 6.8 MB/s eta 0:00:02\n",
      "   ----------------------------- ---------- 28.2/38.6 MB 6.8 MB/s eta 0:00:02\n",
      "   ----------------------------- ---------- 28.6/38.6 MB 6.7 MB/s eta 0:00:02\n",
      "   ------------------------------ --------- 29.0/38.6 MB 6.7 MB/s eta 0:00:02\n",
      "   ------------------------------ --------- 29.2/38.6 MB 6.7 MB/s eta 0:00:02\n",
      "   ------------------------------ --------- 29.5/38.6 MB 6.7 MB/s eta 0:00:02\n",
      "   ------------------------------ --------- 29.9/38.6 MB 6.7 MB/s eta 0:00:02\n",
      "   ------------------------------- -------- 30.2/38.6 MB 6.7 MB/s eta 0:00:02\n",
      "   ------------------------------- -------- 30.5/38.6 MB 6.7 MB/s eta 0:00:02\n",
      "   ------------------------------- -------- 30.8/38.6 MB 6.7 MB/s eta 0:00:02\n",
      "   -------------------------------- ------- 31.1/38.6 MB 6.8 MB/s eta 0:00:02\n",
      "   -------------------------------- ------- 31.5/38.6 MB 6.8 MB/s eta 0:00:02\n",
      "   --------------------------------- ------ 31.9/38.6 MB 6.9 MB/s eta 0:00:01\n",
      "   --------------------------------- ------ 32.1/38.6 MB 6.8 MB/s eta 0:00:01\n",
      "   --------------------------------- ------ 32.5/38.6 MB 6.9 MB/s eta 0:00:01\n",
      "   ---------------------------------- ----- 32.9/38.6 MB 6.9 MB/s eta 0:00:01\n",
      "   ---------------------------------- ----- 33.2/38.6 MB 6.9 MB/s eta 0:00:01\n",
      "   ---------------------------------- ----- 33.4/38.6 MB 7.0 MB/s eta 0:00:01\n",
      "   ---------------------------------- ----- 33.8/38.6 MB 7.0 MB/s eta 0:00:01\n",
      "   ----------------------------------- ---- 34.2/38.6 MB 6.9 MB/s eta 0:00:01\n",
      "   ----------------------------------- ---- 34.4/38.6 MB 7.0 MB/s eta 0:00:01\n",
      "   ------------------------------------ --- 34.8/38.6 MB 7.0 MB/s eta 0:00:01\n",
      "   ------------------------------------ --- 35.2/38.6 MB 6.9 MB/s eta 0:00:01\n",
      "   ------------------------------------ --- 35.5/38.6 MB 6.9 MB/s eta 0:00:01\n",
      "   ------------------------------------- -- 35.9/38.6 MB 7.0 MB/s eta 0:00:01\n",
      "   ------------------------------------- -- 36.2/38.6 MB 7.0 MB/s eta 0:00:01\n",
      "   ------------------------------------- -- 36.6/38.6 MB 7.1 MB/s eta 0:00:01\n",
      "   -------------------------------------- - 36.9/38.6 MB 7.2 MB/s eta 0:00:01\n",
      "   -------------------------------------- - 37.3/38.6 MB 7.2 MB/s eta 0:00:01\n",
      "   -------------------------------------- - 37.6/38.6 MB 7.2 MB/s eta 0:00:01\n",
      "   ---------------------------------------  38.0/38.6 MB 7.1 MB/s eta 0:00:01\n",
      "   ---------------------------------------  38.3/38.6 MB 7.1 MB/s eta 0:00:01\n",
      "   ---------------------------------------  38.5/38.6 MB 7.2 MB/s eta 0:00:01\n",
      "   ---------------------------------------  38.6/38.6 MB 7.1 MB/s eta 0:00:01\n",
      "   ---------------------------------------  38.6/38.6 MB 7.1 MB/s eta 0:00:01\n",
      "   ---------------------------------------  38.6/38.6 MB 7.1 MB/s eta 0:00:01\n",
      "   ---------------------------------------- 38.6/38.6 MB 6.4 MB/s eta 0:00:00\n",
      "Installing collected packages: opencv-python\n",
      "Successfully installed opencv-python-4.9.0.80\n"
     ]
    }
   ],
   "source": [
    "!pip install opencv-python"
   ]
  },
  {
   "cell_type": "markdown",
   "metadata": {},
   "source": [
    "# Face Detection Model\n",
    "- Load the models"
   ]
  },
  {
   "cell_type": "code",
   "execution_count": 11,
   "metadata": {},
   "outputs": [],
   "source": [
    "face_detection_model = './models/res10_300x300_ssd_iter_140000.caffemodel'\n",
    "face_detection_proto = './models/deploy.prototxt.txt'\n",
    "face_descriptor = './models/openface.nn4.small2.v1.t7'\n",
    "# load models using cv2 dnn\n",
    "detector_model = cv2.dnn.readNetFromCaffe(face_detection_proto,face_detection_model)\n",
    "descriptor_model = cv2.dnn.readNetFromTorch(face_descriptor)"
   ]
  },
  {
   "cell_type": "code",
   "execution_count": null,
   "metadata": {},
   "outputs": [],
   "source": [
    "!dir images"
   ]
  },
  {
   "cell_type": "code",
   "execution_count": null,
   "metadata": {},
   "outputs": [],
   "source": [
    "# consider sample image\n",
    "img = cv2.imread('./images/Sachin Tendulkar/2200.jpg')\n",
    "cv2.imshow('sample',img)\n",
    "cv2.waitKey(0)\n",
    "cv2.destroyAllWindows()"
   ]
  },
  {
   "cell_type": "code",
   "execution_count": null,
   "metadata": {},
   "outputs": [],
   "source": [
    "def helper(image_path):\n",
    "    img = cv2.imread(image_path)\n",
    "    # step-1: face detection\n",
    "    image = img.copy()\n",
    "    h,w = image.shape[:2]\n",
    "    img_blob = cv2.dnn.blobFromImage(image,1,(300,300),(104,177,123),swapRB=False,crop=False)\n",
    "    # set the input\n",
    "    detector_model.setInput(img_blob)\n",
    "    detections = detector_model.forward()\n",
    "\n",
    "    if len(detections) > 0:\n",
    "        i = np.argmax(detections[0,0,:,2])# consider the face with max confidence score\n",
    "        confidence = detections[0,0,i,2]\n",
    "        if confidence > 0.5:\n",
    "            box = detections[0,0,i,3:7]*np.array([w,h,w,h])\n",
    "            (startx,starty,endx,endy) = box.astype('int')\n",
    "            # step-2: Feature Extraction or Embedding\n",
    "            roi = image[starty:endy,startx:endx].copy()\n",
    "            # get the face descriptors\n",
    "            faceblob = cv2.dnn.blobFromImage(roi,1/255,(96,96),(0,0,0),swapRB=True,crop=True)\n",
    "            descriptor_model.setInput(faceblob)\n",
    "            vectors = descriptor_model.forward()\n",
    "            \n",
    "            return vectors\n",
    "    return None\n"
   ]
  },
  {
   "cell_type": "markdown",
   "metadata": {},
   "source": [
    "# apply helper function to all images and get face descriptors"
   ]
  },
  {
   "cell_type": "code",
   "execution_count": 19,
   "metadata": {},
   "outputs": [],
   "source": [
    "data = dict(data=[],label=[])"
   ]
  },
  {
   "cell_type": "code",
   "execution_count": 21,
   "metadata": {
    "scrolled": true
   },
   "outputs": [],
   "source": [
    "folders = os.listdir('images')\n",
    "for folder in folders:\n",
    "    filenames = os.listdir('images/{}'.format(folder))\n",
    "    for filename in filenames:\n",
    "        try:\n",
    "\n",
    "            vector = helper('./images/{}/{}'.format(folder,filename))\n",
    "            if vector is not None:\n",
    "                data['data'].append(vector)\n",
    "                data['label'].append(folder)\n",
    "                print('Feature Extracted Sucessfully')\n",
    "                \n",
    "        except:\n",
    "           pass"
   ]
  },
  {
   "cell_type": "code",
   "execution_count": 16,
   "metadata": {},
   "outputs": [
    {
     "data": {
      "text/plain": [
       "dict_keys(['data', 'label'])"
      ]
     },
     "execution_count": 16,
     "metadata": {},
     "output_type": "execute_result"
    }
   ],
   "source": [
    "data.keys()"
   ]
  },
  {
   "cell_type": "code",
   "execution_count": 17,
   "metadata": {},
   "outputs": [
    {
     "data": {
      "text/plain": [
       "Series([], Name: count, dtype: int64)"
      ]
     },
     "execution_count": 17,
     "metadata": {},
     "output_type": "execute_result"
    }
   ],
   "source": [
    "pd.Series(data['label']).value_counts()"
   ]
  },
  {
   "cell_type": "code",
   "execution_count": 18,
   "metadata": {},
   "outputs": [],
   "source": [
    "# save the data\n",
    "pickle.dump(data,open('data_face_features.pickle',mode='wb'))"
   ]
  },
  {
   "cell_type": "code",
   "execution_count": null,
   "metadata": {},
   "outputs": [],
   "source": []
  },
  {
   "cell_type": "code",
   "execution_count": null,
   "metadata": {},
   "outputs": [],
   "source": []
  },
  {
   "cell_type": "code",
   "execution_count": null,
   "metadata": {},
   "outputs": [],
   "source": []
  },
  {
   "cell_type": "code",
   "execution_count": null,
   "metadata": {},
   "outputs": [],
   "source": []
  },
  {
   "cell_type": "code",
   "execution_count": null,
   "metadata": {},
   "outputs": [],
   "source": []
  },
  {
   "cell_type": "code",
   "execution_count": null,
   "metadata": {},
   "outputs": [],
   "source": []
  },
  {
   "cell_type": "code",
   "execution_count": null,
   "metadata": {},
   "outputs": [],
   "source": []
  },
  {
   "cell_type": "code",
   "execution_count": null,
   "metadata": {},
   "outputs": [],
   "source": []
  },
  {
   "cell_type": "code",
   "execution_count": null,
   "metadata": {},
   "outputs": [],
   "source": []
  },
  {
   "cell_type": "code",
   "execution_count": null,
   "metadata": {},
   "outputs": [],
   "source": []
  },
  {
   "cell_type": "code",
   "execution_count": null,
   "metadata": {},
   "outputs": [],
   "source": []
  },
  {
   "cell_type": "code",
   "execution_count": null,
   "metadata": {},
   "outputs": [],
   "source": []
  },
  {
   "cell_type": "code",
   "execution_count": null,
   "metadata": {},
   "outputs": [],
   "source": []
  },
  {
   "cell_type": "code",
   "execution_count": null,
   "metadata": {},
   "outputs": [],
   "source": []
  },
  {
   "cell_type": "code",
   "execution_count": null,
   "metadata": {},
   "outputs": [],
   "source": []
  },
  {
   "cell_type": "code",
   "execution_count": null,
   "metadata": {},
   "outputs": [],
   "source": []
  },
  {
   "cell_type": "code",
   "execution_count": null,
   "metadata": {},
   "outputs": [],
   "source": []
  },
  {
   "cell_type": "code",
   "execution_count": null,
   "metadata": {},
   "outputs": [],
   "source": []
  },
  {
   "cell_type": "code",
   "execution_count": null,
   "metadata": {},
   "outputs": [],
   "source": []
  },
  {
   "cell_type": "code",
   "execution_count": null,
   "metadata": {},
   "outputs": [],
   "source": []
  }
 ],
 "metadata": {
  "kernelspec": {
   "display_name": "Python 3 (ipykernel)",
   "language": "python",
   "name": "python3"
  },
  "language_info": {
   "codemirror_mode": {
    "name": "ipython",
    "version": 3
   },
   "file_extension": ".py",
   "mimetype": "text/x-python",
   "name": "python",
   "nbconvert_exporter": "python",
   "pygments_lexer": "ipython3",
   "version": "3.11.5"
  }
 },
 "nbformat": 4,
 "nbformat_minor": 4
}
